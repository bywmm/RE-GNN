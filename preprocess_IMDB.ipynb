{
 "cells": [
  {
   "cell_type": "code",
   "execution_count": 1,
   "metadata": {
    "pycharm": {
     "is_executing": false
    }
   },
   "outputs": [],
   "source": [
    "import pathlib\n",
    "\n",
    "import numpy as np\n",
    "import scipy.sparse\n",
    "import scipy.io\n",
    "import pandas as pd\n",
    "from sklearn.feature_extraction.text import CountVectorizer\n",
    "import networkx as nx\n",
    "import utils.preprocess\n",
    "from sklearn.model_selection import train_test_split"
   ]
  },
  {
   "cell_type": "code",
   "execution_count": 2,
   "metadata": {
    "pycharm": {
     "is_executing": false,
     "name": "#%%\n"
    }
   },
   "outputs": [],
   "source": [
    "save_prefix = 'data/preprocessed/IMDB_processed/'\n",
    "num_ntypes = 3"
   ]
  },
  {
   "cell_type": "code",
   "execution_count": 3,
   "metadata": {
    "pycharm": {
     "is_executing": false,
     "name": "#%%\n"
    }
   },
   "outputs": [],
   "source": [
    "# load raw data, delete movies with no actor or director\n",
    "movies = pd.read_csv('data/raw/IMDB/movie_metadata.csv', encoding='utf-8').dropna(\n",
    "    axis=0, subset=['actor_1_name','actor_2_name','actor_3_name', 'director_name']).reset_index(drop=True)\n",
    "\n",
    "# movies = pd.read_csv('data/raw/IMDB/movie_metadata.csv', encoding='utf-8').dropna(\n",
    "#     axis=0, subset=['actor_1_name', 'director_name']).reset_index(drop=True)"
   ]
  },
  {
   "cell_type": "code",
   "execution_count": 4,
   "metadata": {
    "pycharm": {
     "is_executing": false,
     "name": "#%%\n"
    }
   },
   "outputs": [],
   "source": [
    "# extract labels, and delete movies with unwanted genres\n",
    "# 0 for action, 1 for comedy, 2 for drama, -1 for others\n",
    "labels = np.zeros((len(movies)), dtype=int)\n",
    "for movie_idx, genres in movies['genres'].iteritems():\n",
    "    labels[movie_idx] = -1\n",
    "    for genre in genres.split('|'):\n",
    "        if genre == 'Action':\n",
    "            labels[movie_idx] = 0\n",
    "            break\n",
    "        elif genre == 'Comedy':\n",
    "            labels[movie_idx] = 1\n",
    "            break\n",
    "        elif genre == 'Drama':\n",
    "            labels[movie_idx] = 2\n",
    "            break\n",
    "unwanted_idx = np.where(labels == -1)[0]\n",
    "movies = movies.drop(unwanted_idx).reset_index(drop=True)\n",
    "labels = np.delete(labels, unwanted_idx, 0)"
   ]
  },
  {
   "cell_type": "code",
   "execution_count": 5,
   "metadata": {
    "pycharm": {
     "is_executing": false,
     "name": "#%%\n"
    },
    "scrolled": true
   },
   "outputs": [
    {
     "name": "stdout",
     "output_type": "stream",
     "text": [
      "4274\n",
      "2079\n",
      "5252\n"
     ]
    }
   ],
   "source": [
    "# get director list and actor list\n",
    "directors = list(set(movies['director_name'].dropna()))\n",
    "directors.sort()\n",
    "actors = list(set(movies['actor_1_name'].dropna().to_list() +\n",
    "                  movies['actor_2_name'].dropna().to_list() +\n",
    "                  movies['actor_3_name'].dropna().to_list()))\n",
    "actors.sort()\n",
    "print(len(movies))\n",
    "print(len(directors))\n",
    "print(len(actors))"
   ]
  },
  {
   "cell_type": "code",
   "execution_count": 6,
   "metadata": {
    "pycharm": {
     "is_executing": false,
     "name": "#%%\n"
    }
   },
   "outputs": [
    {
     "name": "stdout",
     "output_type": "stream",
     "text": [
      "34192\n",
      "45797\n",
      "45797\n"
     ]
    }
   ],
   "source": [
    "# build the adjacency matrix for the graph consisting of movies, directors and actors\n",
    "# 0 for movies, 1 for directors, 2 for actors\n",
    "dim = len(movies) + len(directors) + len(actors)\n",
    "type_mask = np.zeros((dim), dtype=int)\n",
    "type_mask[len(movies):len(movies)+len(directors)] = 1\n",
    "type_mask[len(movies)+len(directors):] = 2\n",
    "\n",
    "adjM = np.zeros((dim, dim), dtype=int)\n",
    "for movie_idx, row in movies.iterrows():\n",
    "    if row['director_name'] in directors:\n",
    "        director_idx = directors.index(row['director_name'])\n",
    "        adjM[movie_idx, len(movies) + director_idx] = 1\n",
    "        adjM[len(movies) + director_idx, movie_idx] = 1\n",
    "    if row['actor_1_name'] in actors:\n",
    "        actor_idx = actors.index(row['actor_1_name'])\n",
    "        adjM[movie_idx, len(movies) + len(directors) + actor_idx] = 1\n",
    "        adjM[len(movies) + len(directors) + actor_idx, movie_idx] = 1\n",
    "    if row['actor_2_name'] in actors:\n",
    "        actor_idx = actors.index(row['actor_2_name'])\n",
    "        adjM[movie_idx, len(movies) + len(directors) + actor_idx] = 1\n",
    "        adjM[len(movies) + len(directors) + actor_idx, movie_idx] = 1\n",
    "    if row['actor_3_name'] in actors:\n",
    "        actor_idx = actors.index(row['actor_3_name'])\n",
    "        adjM[movie_idx, len(movies) + len(directors) + actor_idx] = 1\n",
    "        adjM[len(movies) + len(directors) + actor_idx, movie_idx] = 1\n",
    "\n",
    "scipy.sparse.save_npz(save_prefix + 'adjM.npz', scipy.sparse.csr_matrix(adjM))\n",
    "        \n",
    "adjMM = np.zeros((dim, dim), dtype=int)\n",
    "for movie_idx, row in movies.iterrows():\n",
    "    if row['director_name'] in directors:\n",
    "        director_idx = directors.index(row['director_name'])\n",
    "        adjMM[movie_idx, len(movies) + director_idx] = 1\n",
    "        adjMM[len(movies) + director_idx, movie_idx] = 2\n",
    "    if row['actor_1_name'] in actors:\n",
    "        actor_idx = actors.index(row['actor_1_name'])\n",
    "        adjMM[movie_idx, len(movies) + len(directors) + actor_idx] = 3\n",
    "        adjMM[len(movies) + len(directors) + actor_idx, movie_idx] = 4\n",
    "    if row['actor_2_name'] in actors:\n",
    "        actor_idx = actors.index(row['actor_2_name'])\n",
    "        adjMM[movie_idx, len(movies) + len(directors) + actor_idx] = 3\n",
    "        adjMM[len(movies) + len(directors) + actor_idx, movie_idx] = 4\n",
    "    if row['actor_3_name'] in actors:\n",
    "        actor_idx = actors.index(row['actor_3_name'])\n",
    "        adjMM[movie_idx, len(movies) + len(directors) + actor_idx] = 3\n",
    "        adjMM[len(movies) + len(directors) + actor_idx, movie_idx] = 4\n",
    "\n",
    "scipy.sparse.save_npz(save_prefix + 'adjMM.npz', scipy.sparse.csr_matrix(adjMM))\n",
    "print(scipy.sparse.csr_matrix(adjMM).getnnz())\n",
    "\n",
    "num_etype = adjMM.max()\n",
    "for i in range(adjMM.shape[0]):\n",
    "#     if (i, i) not in adjMM:\n",
    "    adjMM[(i, i)] = num_etype + 1\n",
    "scipy.sparse.save_npz(save_prefix + 'adjMM_wsl.npz', scipy.sparse.csr_matrix(adjMM))\n",
    "print(scipy.sparse.csr_matrix(adjMM).getnnz())\n",
    "\n",
    "for i in range(adjMM.shape[0]):\n",
    "#     if (i, i) not in adjMM:\n",
    "    adjMM[(i, i)] = num_etype + 1 + type_mask[i]\n",
    "scipy.sparse.save_npz(save_prefix + 'adjMM_wsl_2.npz', scipy.sparse.csr_matrix(adjMM))\n",
    "print(scipy.sparse.csr_matrix(adjMM).getnnz())\n"
   ]
  },
  {
   "cell_type": "code",
   "execution_count": 7,
   "metadata": {
    "pycharm": {
     "is_executing": false,
     "name": "#%%\n"
    }
   },
   "outputs": [
    {
     "name": "stdout",
     "output_type": "stream",
     "text": [
      "(11605, 3065)\n"
     ]
    }
   ],
   "source": [
    "# extract bag-of-word representations of plot keywords for each movie\n",
    "# X is a sparse matrix\n",
    "vectorizer = CountVectorizer(min_df=2)\n",
    "movie_X = vectorizer.fit_transform(movies['plot_keywords'].fillna('').values)\n",
    "# assign features to directors and actors as the means of their associated movies' features\n",
    "adjM_da2m = adjM[len(movies):, :len(movies)]\n",
    "adjM_da2m_normalized = np.diag(1 / adjM_da2m.sum(axis=1)).dot(adjM_da2m)\n",
    "director_actor_X = scipy.sparse.csr_matrix(adjM_da2m_normalized).dot(movie_X)\n",
    "full_X = scipy.sparse.vstack([movie_X, director_actor_X])\n",
    "print(full_X.shape)"
   ]
  },
  {
   "cell_type": "code",
   "execution_count": 8,
   "metadata": {
    "pycharm": {
     "is_executing": false,
     "name": "#%%\n"
    }
   },
   "outputs": [
    {
     "name": "stdout",
     "output_type": "stream",
     "text": [
      "(17426, 3)\n",
      "(95030, 3)\n",
      "(4274, 3)\n",
      "(95030, 5)\n",
      "(38466, 3)\n",
      "(156834, 5)\n"
     ]
    }
   ],
   "source": [
    "expected_metapaths = [\n",
    "    [(0, 1, 0), (0, 2, 0)],\n",
    "    [(1, 0, 1), (1, 0, 2, 0, 1)],\n",
    "    [(2, 0, 2), (2, 0, 1, 0, 2)]\n",
    "]\n",
    "# create the directories if they do not exist\n",
    "for i in range(num_ntypes):\n",
    "    pathlib.Path(save_prefix + '{}'.format(i)).mkdir(parents=True, exist_ok=True)\n",
    "for i in range(num_ntypes):\n",
    "    # get metapath based neighbor pairs\n",
    "    neighbor_pairs = utils.preprocess.get_metapath_neighbor_pairs(adjM, type_mask, expected_metapaths[i])\n",
    "    # construct and save metapath-based networks\n",
    "    G_list = utils.preprocess.get_networkx_graph(neighbor_pairs, type_mask, i)\n",
    "    \n",
    "    # save data\n",
    "    # networkx graph (metapath specific)\n",
    "    for G, metapath in zip(G_list, expected_metapaths[i]):\n",
    "        nx.write_adjlist(G, save_prefix + '{}/'.format(i) + '-'.join(map(str, metapath)) + '.adjlist')\n",
    "    # node indices of edge metapaths\n",
    "    all_edge_metapath_idx_array = utils.preprocess.get_edge_metapath_idx_array(neighbor_pairs)\n",
    "    for metapath, edge_metapath_idx_array in zip(expected_metapaths[i], all_edge_metapath_idx_array):\n",
    "        np.save(save_prefix + '{}/'.format(i) + '-'.join(map(str, metapath)) + '_idx.npy', edge_metapath_idx_array)\n",
    "\n",
    "# save data\n",
    "# all nodes adjacency matrix\n",
    "scipy.sparse.save_npz(save_prefix + 'adjM.npz', scipy.sparse.csr_matrix(adjM))\n",
    "# all nodes (movies, directors and actors) features\n",
    "for i in range(num_ntypes):\n",
    "    scipy.sparse.save_npz(save_prefix + 'features_{}.npz'.format(i), full_X[np.where(type_mask == i)[0]])\n",
    "# all nodes (movies, directors and actors) type labels\n",
    "np.save(save_prefix + 'node_types.npy', type_mask)\n",
    "# movie genre labels\n",
    "np.save(save_prefix + 'labels.npy', labels)\n",
    "# movie train/validation/test splits\n",
    "rand_seed = 1566911444\n",
    "train_idx, val_idx = train_test_split(np.arange(len(labels)), test_size=400, random_state=rand_seed)\n",
    "train_idx, test_idx = train_test_split(train_idx, test_size=3478, random_state=rand_seed)\n",
    "train_idx.sort()\n",
    "val_idx.sort()\n",
    "test_idx.sort()\n",
    "np.savez(save_prefix + 'train_val_test_idx.npz',\n",
    "         val_idx=val_idx,\n",
    "         train_idx=train_idx,\n",
    "         test_idx=test_idx)"
   ]
  },
  {
   "cell_type": "code",
   "execution_count": null,
   "metadata": {},
   "outputs": [],
   "source": []
  }
 ],
 "metadata": {
  "kernelspec": {
   "display_name": "Python 3.6.5 ('base')",
   "language": "python",
   "name": "python3"
  },
  "language_info": {
   "codemirror_mode": {
    "name": "ipython",
    "version": 3
   },
   "file_extension": ".py",
   "mimetype": "text/x-python",
   "name": "python",
   "nbconvert_exporter": "python",
   "pygments_lexer": "ipython3",
   "version": "3.6.5"
  },
  "pycharm": {
   "stem_cell": {
    "cell_type": "raw",
    "metadata": {
     "collapsed": false
    },
    "source": []
   }
  },
  "vscode": {
   "interpreter": {
    "hash": "c28e6fa0881da3873b57b257f63e263b8a3d73d4c4183bed1717ae2816882585"
   }
  }
 },
 "nbformat": 4,
 "nbformat_minor": 1
}
